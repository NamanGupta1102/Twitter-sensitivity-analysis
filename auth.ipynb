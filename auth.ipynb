{
 "cells": [
  {
   "cell_type": "code",
   "execution_count": 20,
   "metadata": {},
   "outputs": [],
   "source": [
    "import tweepy\n",
    "bearer_token = \"AAAAAAAAAAAAAAAAAAAAAPezcQEAAAAApl094xJm8bSnFr%2B6qKdAouHPYhw%3DwBCeYTEiK6ah58QXc9wAtK4lcshqShKZoQXr2ZLGk5RSzlqXu1\"\n",
    "consumer_key = \"IeGiAiHpNNojEvu6EgFJk3rsX\"\n",
    "consumer_secret = \"nYC0eJ7xCUh8F3KnP7ozREUQKYNs4s3j44H8bMIc16UIQBqJGs\"\n",
    "access_token = \"971077863444176896-90bZdNm5XreaxvvUToDZQJtS6v6cLyx\"\n",
    "access_token_secret = \"WX7tMSIEQGuBxF055lz8hjgMsc7PLROH80jf00gxLuvVw\"\n",
    "client = tweepy.Client(bearer_token=bearer_token)\n",
    "client = tweepy.Client(\n",
    "    consumer_key=consumer_key, consumer_secret=consumer_secret,\n",
    "    access_token=access_token, access_token_secret=access_token_secret\n",
    ")\n",
    "# print(dir(client))"
   ]
  },
  {
   "cell_type": "code",
   "execution_count": 21,
   "metadata": {},
   "outputs": [],
   "source": [
    "s = \"IPL\""
   ]
  },
  {
   "cell_type": "code",
   "execution_count": 22,
   "metadata": {},
   "outputs": [],
   "source": [
    "from textblob import TextBlob\n",
    "import matplotlib.pyplot as plt\n",
    "import numpy as np\n",
    "import re"
   ]
  },
  {
   "cell_type": "code",
   "execution_count": 23,
   "metadata": {},
   "outputs": [],
   "source": [
    "# client = tweepy.Client(bearer_token)\n",
    "# tweet_ids = [1460323737035677698, 1293593516040269825, 1293595870563381249]\n",
    "# response = client.get_tweets(tweet_ids, tweet_fields=[\"created_at\"])\n",
    "# for tweet in response.data:\n",
    "#     print(tweet.id, tweet.created_at, tweet.text)"
   ]
  },
  {
   "cell_type": "code",
   "execution_count": 24,
   "metadata": {},
   "outputs": [
    {
     "name": "stdout",
     "output_type": "stream",
     "text": [
      "<bound method Client.get_me of <tweepy.client.Client object at 0x000001D36DFFEB20>>\n"
     ]
    }
   ],
   "source": [
    "client = tweepy.Client(bearer_token)\n",
    "res = client.get_me\n",
    "print(res)\n"
   ]
  },
  {
   "cell_type": "code",
   "execution_count": 25,
   "metadata": {},
   "outputs": [
    {
     "name": "stdout",
     "output_type": "stream",
     "text": [
      "{'newest_id': '1529404537932353536', 'oldest_id': '1529403689277894657', 'result_count': 100, 'next_token': 'b26v89c19zqg8o3fpywol1bd6qvzzirznfn03ld8yvt6l'}\n"
     ]
    }
   ],
   "source": [
    "response = client.search_recent_tweets(s, max_results = 100)\n",
    "print(response.meta)\n",
    "tweets = response.data\n",
    "# for tweet in tweets:\n",
    "#     print(tweet.id)\n",
    "#     print(tweet.text)\n"
   ]
  },
  {
   "cell_type": "code",
   "execution_count": 26,
   "metadata": {},
   "outputs": [],
   "source": [
    "\n",
    "my = open(\"tweets.txt\",\"w\", encoding = \"utf_8\")\n",
    "# print(tweets)\n",
    "#my.writelines(tweets)\n",
    "for i in tweets:\n",
    "#     print(i)\n",
    "# #     x = (i.text).decode(decoding = 'UTF-8')  \n",
    "#     x = (i.text).decode(encoding = 'UTF-8',errors = 'strict')\n",
    "    z= i.text\n",
    "    my.writelines(i.text)\n",
    "my.close()"
   ]
  },
  {
   "cell_type": "code",
   "execution_count": 27,
   "metadata": {},
   "outputs": [],
   "source": [
    "# print(tweets[0])"
   ]
  },
  {
   "cell_type": "code",
   "execution_count": 28,
   "metadata": {},
   "outputs": [],
   "source": [
    "def purify(s):\n",
    "    f = open(s,'r',encoding='utf-8')\n",
    "    x = open('purified.txt','w', encoding = 'utf-8')\n",
    "    for i in f.readlines():\n",
    "        #print(i)\n",
    "        z = re.sub(r\"https\\S+\",'',i)\n",
    "        z = re.sub(r\"#\\S+\",'',z)\n",
    "        z = re.sub(r\"@\\S+\",'',z)\n",
    "        z = re.sub(r\"\\'\\S+\",'',z)\n",
    "#         z = re.sub(\"(@[A-Za-z0-9]+)|([^0-9A-Za-z \\t])|(\\w+:\\/\\/\\S+)\", \" \", i)\n",
    "#         print(z)\n",
    "        x.writelines(z)\n",
    "    x.close()\n",
    "    f.close()\n",
    "        \n",
    "        \n"
   ]
  },
  {
   "cell_type": "code",
   "execution_count": 29,
   "metadata": {
    "scrolled": false
   },
   "outputs": [],
   "source": [
    "purify(\"tweets.txt\")"
   ]
  },
  {
   "cell_type": "code",
   "execution_count": 30,
   "metadata": {},
   "outputs": [],
   "source": [
    "def plotpie(senti):\n",
    "    f = open(senti,'r', encoding  = 'utf-8')\n",
    "    li = list() \n",
    "    \n",
    "    for i in f.readlines():\n",
    "        li.append(TextBlob(i).sentiment.polarity)\n",
    "#     print(li)\n",
    "    c = [0,0,0]\n",
    "    d =[0,0,0]\n",
    "    for i in li:\n",
    "        if i>0.0: \n",
    "            c[1] = c[1]+1\n",
    "            d[1] = d[1] + i\n",
    "            \n",
    "            \n",
    "        elif i<0.0: \n",
    "            c[2] = c[2]+1\n",
    "            d[2] = d[2]+1\n",
    "            \n",
    "        else: \n",
    "            c[0]=c[0] + 1\n",
    "            \n",
    "#     print(c)\n",
    "#     c = np.array([i/len(c) for i in c])\n",
    "    c = np.array(c)\n",
    "#     print(c)\n",
    "    lab = [\"Neautral\",\"Positive\",\"Negative\"]\n",
    "    plt.pie(c,labels = lab, explode = [0.1,0.2,0.2],shadow=True,autopct='%1.1f%%', radius = 2)\n",
    "    plt.show()\n",
    "    print(\"Positivity = \",d[1])\n",
    "    print(\"Negativity = \",d[2])"
   ]
  },
  {
   "cell_type": "code",
   "execution_count": 31,
   "metadata": {},
   "outputs": [],
   "source": [
    "# plotpie(\"senti.txt\")"
   ]
  },
  {
   "cell_type": "code",
   "execution_count": 32,
   "metadata": {},
   "outputs": [
    {
     "data": {
      "image/png": "[encoded data removed]",
      "text/plain": [
       "<Figure size 432x288 with 1 Axes>"
      ]
     },
     "metadata": {},
     "output_type": "display_data"
    },
    {
     "name": "stdout",
     "output_type": "stream",
     "text": [
      "Positivity =  10.201742424242425\n",
      "Negativity =  7\n"
     ]
    }
   ],
   "source": [
    "plotpie(\"purified.txt\")"
   ]
  },
  {
   "cell_type": "code",
   "execution_count": 33,
   "metadata": {},
   "outputs": [
    {
     "data": {
      "image/png": "[encoded data removed]",
      "text/plain": [
       "<Figure size 432x288 with 1 Axes>"
      ]
     },
     "metadata": {},
     "output_type": "display_data"
    },
    {
     "name": "stdout",
     "output_type": "stream",
     "text": [
      "Positivity =  10.201742424242425\n",
      "Negativity =  7\n"
     ]
    }
   ],
   "source": [
    "plotpie(\"tweets.txt\")"
   ]
  },
  {
   "cell_type": "code",
   "execution_count": 34,
   "metadata": {},
   "outputs": [],
   "source": [
    "class test:\n",
    "    def __init__(self,a):\n",
    "        self.a = a"
   ]
  },
  {
   "cell_type": "code",
   "execution_count": 35,
   "metadata": {},
   "outputs": [],
   "source": [
    "test.b = 90"
   ]
  },
  {
   "cell_type": "code",
   "execution_count": 36,
   "metadata": {},
   "outputs": [
    {
     "name": "stdout",
     "output_type": "stream",
     "text": [
      "90\n"
     ]
    }
   ],
   "source": [
    "print(test.b)"
   ]
  },
  {
   "cell_type": "code",
   "execution_count": null,
   "metadata": {},
   "outputs": [],
   "source": []
  },
  {
   "cell_type": "code",
   "execution_count": null,
   "metadata": {},
   "outputs": [],
   "source": []
  }
 ],
 "metadata": {
  "interpreter": {
   "hash": "6f11a14d62b5809cb48ea6c911104088e81d085fd9a6a63f25080048c22509d1"
  },
  "kernelspec": {
   "display_name": "Python 3 (ipykernel)",
   "language": "python",
   "name": "python3"
  },
  "language_info": {
   "codemirror_mode": {
    "name": "ipython",
    "version": 3
   },
   "file_extension": ".py",
   "mimetype": "text/x-python",
   "name": "python",
   "nbconvert_exporter": "python",
   "pygments_lexer": "ipython3",
   "version": "3.9.7"
  }
 },
 "nbformat": 4,
 "nbformat_minor": 2
}
